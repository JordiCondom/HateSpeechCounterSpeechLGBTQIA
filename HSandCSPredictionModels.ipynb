{
 "cells": [
  {
   "cell_type": "code",
   "execution_count": null,
   "id": "33e26b09-ed6f-464f-acb6-8b3c6ff88451",
   "metadata": {},
   "outputs": [],
   "source": [
    "import json\n",
    "import os\n",
    "import random\n",
    "import re\n",
    "\n",
    "import numpy as np\n",
    "import pandas as pd\n",
    "import spacy\n",
    "import torch\n",
    "from datasets import Dataset, DataCollatorWithPadding, concatenate_datasets, load_dataset\n",
    "from nltk import download\n",
    "from nltk.corpus import stopwords, wordnet\n",
    "from sklearn.metrics import accuracy_score, confusion_matrix, f1_score\n",
    "from sklearn.model_selection import StratifiedShuffleSplit\n",
    "from scipy.special import softmax\n",
    "from tqdm import tqdm\n",
    "from transformers import (AutoModelForSequenceClassification, AutoTokenizer,\n",
    "                          EarlyStoppingCallback, Trainer, TrainingArguments)\n",
    "\n",
    "download('wordnet')\n",
    "download('omw-1.4')\n",
    "download('stopwords')\n"
   ]
  },
  {
   "cell_type": "markdown",
   "id": "861ed898-37ea-449f-af9b-03913bf971ff",
   "metadata": {},
   "source": [
    "# Hate Speech and Counter Speech prediction models"
   ]
  },
  {
   "cell_type": "markdown",
   "id": "2fb406ff-5374-4477-bef2-ebde36c2d3f8",
   "metadata": {},
   "source": [
    "## Hate Speech"
   ]
  },
  {
   "cell_type": "code",
   "execution_count": null,
   "id": "e167666d-5883-4408-93a8-d88fbbe653fa",
   "metadata": {},
   "outputs": [],
   "source": [
    "dataset = load_dataset('csv', data_files='...')\n",
    "labels = dataset['train']['label']  # Assuming 'label' is the column name for labels\n",
    "\n",
    "# In this step you should also preprocess your data as desired\n",
    "\n",
    "splitter = StratifiedShuffleSplit(n_splits=1, test_size=0.2, random_state=42)\n",
    "train_indices, temp_indices = next(splitter.split(dataset['train'], labels))\n",
    "train_set = dataset['train'].select(train_indices)\n",
    "temp_set = dataset['train'].select(temp_indices)\n",
    "\n",
    "temp_labels = temp_set['label']\n",
    "splitter_temp = StratifiedShuffleSplit(n_splits=1, test_size=0.5, random_gstate=42)\n",
    "validation_indices, test_indices = next(splitter_temp.split(temp_set, temp_labels))\n",
    "validation_set = temp_set.select(validation_indices)\n",
    "test_set = temp_set.select(test_indices)"
   ]
  },
  {
   "cell_type": "code",
   "execution_count": null,
   "id": "37b8bc1c-9203-42df-a149-106e315d35f9",
   "metadata": {},
   "outputs": [],
   "source": [
    "# Initialize tokenizer and model\n",
    "tokenizer = AutoTokenizer.from_pretrained(\"GroNLP/hateBERT\")\n",
    "model = AutoModelForSequenceClassification.from_pretrained(\"GroNLP/hateBERT\", num_labels=2)\n",
    "\n",
    "# Tokenization function\n",
    "def tokenize_function(examples):\n",
    "    return tokenizer(examples['text'], padding=\"max_length\", truncation=True, max_length=128)\n",
    "\n",
    "# Tokenize datasets\n",
    "tokenized_train = train_set.map(tokenize_function, batched=True)\n",
    "tokenized_validation = validation_set.map(tokenize_function, batched=True)\n",
    "tokenized_test = test_set.map(tokenize_function, batched=True)\n"
   ]
  },
  {
   "cell_type": "code",
   "execution_count": null,
   "id": "67e7309b-bbb4-4994-999d-dfb53165231b",
   "metadata": {},
   "outputs": [],
   "source": [
    "training_args = TrainingArguments(\n",
    "    output_dir=\"./results\",\n",
    "    evaluation_strategy=\"steps\",\n",
    "    eval_steps=500,\n",
    "    learning_rate=5e-5,\n",
    "    per_device_train_batch_size=16,\n",
    "    per_device_eval_batch_size=16,\n",
    "    num_train_epochs=5,\n",
    "    weight_decay=0.01,\n",
    "    logging_dir='./logs',\n",
    "    logging_steps=100,\n",
    "    save_total_limit=1,\n",
    "    load_best_model_at_end=True,\n",
    "    metric_for_best_model=\"eval_loss\",\n",
    "    greater_is_better=False\n",
    ")\n",
    "\n",
    "trainer = Trainer(\n",
    "    model=model,\n",
    "    args=training_args,\n",
    "    train_dataset=tokenized_train,\n",
    "    eval_dataset=tokenized_validation,\n",
    "    callbacks=[EarlyStoppingCallback(early_stopping_patience=3)]\n",
    ")\n",
    "trainer.train()"
   ]
  },
  {
   "cell_type": "markdown",
   "id": "969ae934-ccbc-4865-8908-16882e45bbab",
   "metadata": {},
   "source": [
    "## Counter Speech"
   ]
  },
  {
   "cell_type": "code",
   "execution_count": null,
   "id": "172b48ff-4e40-4b38-a092-15d107d8f29f",
   "metadata": {},
   "outputs": [],
   "source": [
    "def prepare_data(df):\n",
    "    pairs, labels = [], []\n",
    "    for i in range(0, len(df) - 1, 2):\n",
    "        combined_text = \"[CLS] \" + replace_emojis(df.iloc[i]['text']) + \" [SEP] \" + replace_emojis(df.iloc[i+1]['text'])\n",
    "        combined_label = [df.iloc[i]['label'], df.iloc[i+1]['label']]\n",
    "        pairs.append(combined_text)\n",
    "        labels.append(combined_label)\n",
    "    return pd.DataFrame({'text': pairs, 'label': labels})\n",
    "\n",
    "\n",
    "def split_data(df):\n",
    "    X = df['text']\n",
    "    y = pd.DataFrame(df['label'].tolist(), columns=['label_1', 'label_2'])\n",
    "    return train_test_split(X, y, test_size=0.2, random_state=42)\n",
    "\n",
    "# Load your dataset with pairs of sentences that constitute the dialogues\n",
    "subdialogues_df = load_data(\"...\")\n",
    "pairs_df = prepare_data(subdialogues_df) #In this step also apply any desired pre-processing\n",
    "\n",
    "X_train, X_test, y_train, y_test = split_data(pairs_df)"
   ]
  },
  {
   "cell_type": "code",
   "execution_count": null,
   "id": "7cca03e1-150e-4f60-a999-86255200647d",
   "metadata": {},
   "outputs": [],
   "source": [
    "# Model and Training\n",
    "class DialogueDataset(Dataset):\n",
    "    def __init__(self, texts, labels, tokenizer, max_len=128):\n",
    "        self.texts = texts\n",
    "        self.labels = labels\n",
    "        self.tokenizer = tokenizer\n",
    "        self.max_len = max_len\n",
    "\n",
    "    def __len__(self):\n",
    "        return len(self.texts)\n",
    "\n",
    "    def __getitem__(self, idx):\n",
    "        text = self.texts.iloc[idx]\n",
    "        labels = self.labels.iloc[idx]\n",
    "        inputs = self.tokenizer.encode_plus(\n",
    "            text,\n",
    "            add_special_tokens=True,\n",
    "            max_length=self.max_len,\n",
    "            padding='max_length',\n",
    "            return_token_type_ids=False,\n",
    "            truncation=True,\n",
    "            return_attention_mask=True,\n",
    "            return_tensors='pt'\n",
    "        )\n",
    "        return {\n",
    "            'input_ids': inputs['input_ids'].flatten(),\n",
    "            'attention_mask': inputs['attention_mask'].flatten(),\n",
    "            'labels': torch.tensor(labels.values, dtype=torch.float)\n",
    "        }\n",
    "\n",
    "tokenizer = BertTokenizer.from_pretrained('bert-base-uncased')\n",
    "train_dataset = DialogueDataset(X_train, y_train, tokenizer)\n",
    "test_dataset = DialogueDataset(X_test, y_test, tokenizer)\n",
    "\n",
    "train_loader = DataLoader(train_dataset, batch_size=8)\n",
    "test_loader = DataLoader(test_dataset, batch_size=8)\n"
   ]
  },
  {
   "cell_type": "code",
   "execution_count": null,
   "id": "5f2ab8d6-891d-4ff7-8be4-decfb9aca352",
   "metadata": {},
   "outputs": [],
   "source": [
    "model = BertForSequenceClassification.from_pretrained('bert-base-uncased', num_labels=2)\n",
    "training_args = TrainingArguments(\n",
    "    output_dir='./results',\n",
    "    num_train_epochs=3,\n",
    "    per_device_train_batch_size=8,\n",
    "    per_device_eval_batch_size=8,\n",
    "    warmup_steps=500,\n",
    "    weight_decay=0.01,\n",
    "    logging_dir='./logs',\n",
    "    logging_steps=10\n",
    ")\n",
    "\n",
    "trainer = Trainer(\n",
    "    model=model,\n",
    "    args=training_args,\n",
    "    train_dataset=train_dataset,\n",
    "    eval_dataset=test_dataset,\n",
    "    callbacks=[EarlyStoppingCallback(early_stopping_patience=3)]\n",
    ")\n",
    "trainer.train()"
   ]
  }
 ],
 "metadata": {
  "kernelspec": {
   "display_name": "Python 3 (ipykernel)",
   "language": "python",
   "name": "python3"
  },
  "language_info": {
   "codemirror_mode": {
    "name": "ipython",
    "version": 3
   },
   "file_extension": ".py",
   "mimetype": "text/x-python",
   "name": "python",
   "nbconvert_exporter": "python",
   "pygments_lexer": "ipython3",
   "version": "3.10.12"
  }
 },
 "nbformat": 4,
 "nbformat_minor": 5
}
